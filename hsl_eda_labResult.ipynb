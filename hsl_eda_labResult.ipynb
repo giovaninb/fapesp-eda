{
 "cells": [
  {
   "cell_type": "code",
   "execution_count": 1,
   "metadata": {},
   "outputs": [],
   "source": [
    "# Load EDA\n",
    "import pandas as pd\n",
    "import numpy as np"
   ]
  },
  {
   "cell_type": "code",
   "execution_count": 2,
   "metadata": {},
   "outputs": [],
   "source": [
    "# Load Data Viz\n",
    "import matplotlib.pyplot as plt"
   ]
  },
  {
   "cell_type": "code",
   "execution_count": 4,
   "metadata": {},
   "outputs": [],
   "source": [
    "df_labResult = pd.read_csv('data/hsl_lab_result_1.csv', sep='|')"
   ]
  },
  {
   "cell_type": "code",
   "execution_count": 5,
   "metadata": {},
   "outputs": [
    {
     "data": {
      "text/html": [
       "<div>\n",
       "<style scoped>\n",
       "    .dataframe tbody tr th:only-of-type {\n",
       "        vertical-align: middle;\n",
       "    }\n",
       "\n",
       "    .dataframe tbody tr th {\n",
       "        vertical-align: top;\n",
       "    }\n",
       "\n",
       "    .dataframe thead th {\n",
       "        text-align: right;\n",
       "    }\n",
       "</style>\n",
       "<table border=\"1\" class=\"dataframe\">\n",
       "  <thead>\n",
       "    <tr style=\"text-align: right;\">\n",
       "      <th></th>\n",
       "      <th>ID_PACIENTE</th>\n",
       "      <th>ID_ATENDIMENTO</th>\n",
       "      <th>DT_COLETA</th>\n",
       "      <th>DE_ORIGEM</th>\n",
       "      <th>DE_EXAME</th>\n",
       "      <th>DE_ANALITO</th>\n",
       "      <th>DE_RESULTADO</th>\n",
       "      <th>CD_UNIDADE</th>\n",
       "      <th>DE_VALOR_REFERENCIA</th>\n",
       "    </tr>\n",
       "  </thead>\n",
       "  <tbody>\n",
       "    <tr>\n",
       "      <th>0</th>\n",
       "      <td>8DB6195FDA56EFEB7458E3B9EFD2761D</td>\n",
       "      <td>CA143AA97844863B628B4E618A3F410A</td>\n",
       "      <td>2020-05-14</td>\n",
       "      <td>Pronto Socorro</td>\n",
       "      <td>Peptideo Natriuretico Tipo B (Bnp)</td>\n",
       "      <td>BNP</td>\n",
       "      <td>inferior a 5</td>\n",
       "      <td>pg/mL</td>\n",
       "      <td>AtĂŠ 100</td>\n",
       "    </tr>\n",
       "    <tr>\n",
       "      <th>1</th>\n",
       "      <td>8DB6195FDA56EFEB7458E3B9EFD2761D</td>\n",
       "      <td>CA143AA97844863B628B4E618A3F410A</td>\n",
       "      <td>2020-05-14</td>\n",
       "      <td>Pronto Socorro</td>\n",
       "      <td>SĂłdio</td>\n",
       "      <td>SĂłdio</td>\n",
       "      <td>142</td>\n",
       "      <td>mEq/L</td>\n",
       "      <td>136 a 145</td>\n",
       "    </tr>\n",
       "    <tr>\n",
       "      <th>2</th>\n",
       "      <td>8DB6195FDA56EFEB7458E3B9EFD2761D</td>\n",
       "      <td>CA143AA97844863B628B4E618A3F410A</td>\n",
       "      <td>2020-05-14</td>\n",
       "      <td>Pronto Socorro</td>\n",
       "      <td>Creatinina</td>\n",
       "      <td>Creatinina</td>\n",
       "      <td>0,70</td>\n",
       "      <td>mg/dL</td>\n",
       "      <td>0,60 a 1,10</td>\n",
       "    </tr>\n",
       "    <tr>\n",
       "      <th>3</th>\n",
       "      <td>8DB6195FDA56EFEB7458E3B9EFD2761D</td>\n",
       "      <td>CA143AA97844863B628B4E618A3F410A</td>\n",
       "      <td>2020-05-14</td>\n",
       "      <td>Pronto Socorro</td>\n",
       "      <td>Hemograma, sangue total</td>\n",
       "      <td>Hemoglobina</td>\n",
       "      <td>13,0</td>\n",
       "      <td>g/dL</td>\n",
       "      <td>12,0 a 15,5</td>\n",
       "    </tr>\n",
       "    <tr>\n",
       "      <th>4</th>\n",
       "      <td>8DB6195FDA56EFEB7458E3B9EFD2761D</td>\n",
       "      <td>CA143AA97844863B628B4E618A3F410A</td>\n",
       "      <td>2020-05-14</td>\n",
       "      <td>Pronto Socorro</td>\n",
       "      <td>Hemograma, sangue total</td>\n",
       "      <td>VCM</td>\n",
       "      <td>89,0</td>\n",
       "      <td>fL</td>\n",
       "      <td>82,0 a 98,0</td>\n",
       "    </tr>\n",
       "  </tbody>\n",
       "</table>\n",
       "</div>"
      ],
      "text/plain": [
       "                        ID_PACIENTE                    ID_ATENDIMENTO  \\\n",
       "0  8DB6195FDA56EFEB7458E3B9EFD2761D  CA143AA97844863B628B4E618A3F410A   \n",
       "1  8DB6195FDA56EFEB7458E3B9EFD2761D  CA143AA97844863B628B4E618A3F410A   \n",
       "2  8DB6195FDA56EFEB7458E3B9EFD2761D  CA143AA97844863B628B4E618A3F410A   \n",
       "3  8DB6195FDA56EFEB7458E3B9EFD2761D  CA143AA97844863B628B4E618A3F410A   \n",
       "4  8DB6195FDA56EFEB7458E3B9EFD2761D  CA143AA97844863B628B4E618A3F410A   \n",
       "\n",
       "    DT_COLETA       DE_ORIGEM                            DE_EXAME  \\\n",
       "0  2020-05-14  Pronto Socorro  Peptideo Natriuretico Tipo B (Bnp)   \n",
       "1  2020-05-14  Pronto Socorro                              SĂłdio   \n",
       "2  2020-05-14  Pronto Socorro                          Creatinina   \n",
       "3  2020-05-14  Pronto Socorro             Hemograma, sangue total   \n",
       "4  2020-05-14  Pronto Socorro             Hemograma, sangue total   \n",
       "\n",
       "    DE_ANALITO  DE_RESULTADO CD_UNIDADE DE_VALOR_REFERENCIA  \n",
       "0          BNP  inferior a 5      pg/mL            AtĂŠ 100  \n",
       "1       SĂłdio           142      mEq/L           136 a 145  \n",
       "2   Creatinina          0,70      mg/dL         0,60 a 1,10  \n",
       "3  Hemoglobina          13,0       g/dL         12,0 a 15,5  \n",
       "4          VCM          89,0         fL         82,0 a 98,0  "
      ]
     },
     "execution_count": 5,
     "metadata": {},
     "output_type": "execute_result"
    }
   ],
   "source": [
    "df_labResult.head()"
   ]
  },
  {
   "cell_type": "code",
   "execution_count": 6,
   "metadata": {},
   "outputs": [
    {
     "data": {
      "text/plain": [
       "Index(['ID_PACIENTE', 'ID_ATENDIMENTO', 'DT_COLETA', 'DE_ORIGEM', 'DE_EXAME',\n",
       "       'DE_ANALITO', 'DE_RESULTADO', 'CD_UNIDADE', 'DE_VALOR_REFERENCIA'],\n",
       "      dtype='object')"
      ]
     },
     "execution_count": 6,
     "metadata": {},
     "output_type": "execute_result"
    }
   ],
   "source": [
    "df_labResult.columns"
   ]
  },
  {
   "cell_type": "code",
   "execution_count": null,
   "metadata": {},
   "outputs": [],
   "source": []
  }
 ],
 "metadata": {
  "kernelspec": {
   "display_name": "Python 3",
   "language": "python",
   "name": "python3"
  },
  "language_info": {
   "codemirror_mode": {
    "name": "ipython",
    "version": 3
   },
   "file_extension": ".py",
   "mimetype": "text/x-python",
   "name": "python",
   "nbconvert_exporter": "python",
   "pygments_lexer": "ipython3",
   "version": "3.6.10"
  }
 },
 "nbformat": 4,
 "nbformat_minor": 2
}
